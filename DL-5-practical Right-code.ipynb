{
 "cells": [
  {
   "cell_type": "code",
   "execution_count": 1,
   "id": "4a4b7f77-8508-41c5-b8df-7354f70ca8b2",
   "metadata": {},
   "outputs": [],
   "source": [
    "import numpy as np\n",
    "import re\n",
    "import tensorflow as tf\n",
    "import matplotlib.pyplot as plt"
   ]
  },
  {
   "cell_type": "code",
   "execution_count": 2,
   "id": "0430b805-5113-4f7d-a4cf-bf3fa45e1e70",
   "metadata": {},
   "outputs": [],
   "source": [
    "# Data Preparation\n",
    "sentences = '''We are about to study the idea of a computational process.\n",
    "Computational processes are abstract beings that inhabit computers.\n",
    "As they evolve, processes manipulate other abstract things called data.\n",
    "The evolution of a process is directed by a pattern of rules\n",
    "called a program. People create programs to direct processes. In effect,\n",
    "we conjure the spirits of the computer with our spells.'''"
   ]
  },
  {
   "cell_type": "code",
   "execution_count": 3,
   "id": "17c057ea-6545-418b-bcea-b7600bcfe4fc",
   "metadata": {},
   "outputs": [],
   "source": [
    "# Clean Data\n",
    "# remove special characters\n",
    "sentences = re.sub('[^A-Za-z0-9]+', ' ', sentences)\n",
    "\n",
    "# remove 1 letter words\n",
    "sentences = re.sub(r'(?:^| )\\w(?:$| )', ' ', sentences).strip()\n",
    "\n",
    "# lower all characters\n",
    "sentences = sentences.lower()"
   ]
  },
  {
   "cell_type": "code",
   "execution_count": 4,
   "id": "68b37984-33dc-488d-bccd-de6f89d44c06",
   "metadata": {},
   "outputs": [],
   "source": [
    "# Vocabulary\n",
    "words = sentences.split()\n",
    "vocab = set(words)"
   ]
  },
  {
   "cell_type": "code",
   "execution_count": 5,
   "id": "aeca4fdb-80b0-4735-87d5-e8651f86f5b2",
   "metadata": {},
   "outputs": [],
   "source": [
    "# Define vocabulary size\n",
    "vocab_size = len(vocab)\n",
    "embed_dim = 10\n",
    "context_size = 2"
   ]
  },
  {
   "cell_type": "code",
   "execution_count": 6,
   "id": "eb7a723d-43a6-4132-93ad-054cccb0ffe2",
   "metadata": {},
   "outputs": [],
   "source": [
    "# Create word-to-index and index-to-word mappings\n",
    "word_to_ix = {word: i for i, word in enumerate(vocab)}\n",
    "ix_to_word = {i: word for i, word in enumerate(vocab)}"
   ]
  },
  {
   "cell_type": "code",
   "execution_count": 7,
   "id": "4486f357-06b8-4538-9d2b-df81ce7b61b3",
   "metadata": {},
   "outputs": [
    {
     "name": "stdout",
     "output_type": "stream",
     "text": [
      "[(['we', 'are', 'to', 'study'], 'about'), (['are', 'about', 'study', 'the'], 'to'), (['about', 'to', 'the', 'idea'], 'study'), (['to', 'study', 'idea', 'of'], 'the'), (['study', 'the', 'of', 'computational'], 'idea')]\n"
     ]
    }
   ],
   "source": [
    "# Generate training data\n",
    "data = []\n",
    "for i in range(2, len(words) - 2):\n",
    "    context = [words[i - 2], words[i - 1], words[i + 1], words[i + 2]]\n",
    "    target = words[i]\n",
    "    data.append((context, target))\n",
    "print(data[:5])\n",
    "# Prepare data for model\n",
    "context_data = np.array([[word_to_ix[w] for w in context] for context, _ in data])\n",
    "target_data = np.array([word_to_ix[target] for _, target in data])\n"
   ]
  },
  {
   "cell_type": "code",
   "execution_count": 8,
   "id": "d7b5f39e-4d79-4f84-87bb-8fe9d7815ae9",
   "metadata": {},
   "outputs": [
    {
     "name": "stdout",
     "output_type": "stream",
     "text": [
      "Model: \"sequential\"\n",
      "_________________________________________________________________\n",
      "Layer (type)                 Output Shape              Param #   \n",
      "=================================================================\n",
      "embedding (Embedding)        (None, 4, 10)             430       \n",
      "_________________________________________________________________\n",
      "flatten (Flatten)            (None, 40)                0         \n",
      "_________________________________________________________________\n",
      "dense (Dense)                (None, 256)               10496     \n",
      "_________________________________________________________________\n",
      "dense_1 (Dense)              (None, 43)                11051     \n",
      "=================================================================\n",
      "Total params: 21,977\n",
      "Trainable params: 21,977\n",
      "Non-trainable params: 0\n",
      "_________________________________________________________________\n"
     ]
    }
   ],
   "source": [
    "# Model Definition\n",
    "model = tf.keras.Sequential([\n",
    "    tf.keras.layers.Embedding(input_dim=vocab_size, output_dim=embed_dim, input_length=2 * context_size),\n",
    "    tf.keras.layers.Flatten(),\n",
    "    tf.keras.layers.Dense(256, activation='relu'),\n",
    "    tf.keras.layers.Dense(vocab_size, activation='softmax')\n",
    "])\n",
    "\n",
    "# Compile the model\n",
    "model.compile(optimizer='adam', loss='sparse_categorical_crossentropy', metrics=['accuracy'])\n",
    "\n",
    "model.summary()"
   ]
  },
  {
   "cell_type": "code",
   "execution_count": 9,
   "id": "33d57750-c61d-475c-87c3-051c17427f67",
   "metadata": {},
   "outputs": [
    {
     "name": "stdout",
     "output_type": "stream",
     "text": [
      "Epoch 1/80\n",
      "1/1 [==============================] - 0s 2ms/step - loss: 3.7626 - accuracy: 0.0370\n",
      "Epoch 2/80\n",
      "1/1 [==============================] - 0s 1ms/step - loss: 3.7564 - accuracy: 0.0370\n",
      "Epoch 3/80\n",
      "1/1 [==============================] - 0s 5ms/step - loss: 3.7503 - accuracy: 0.0370\n",
      "Epoch 4/80\n",
      "1/1 [==============================] - 0s 3ms/step - loss: 3.7442 - accuracy: 0.1481\n",
      "Epoch 5/80\n",
      "1/1 [==============================] - 0s 2ms/step - loss: 3.7382 - accuracy: 0.2222\n",
      "Epoch 6/80\n",
      "1/1 [==============================] - 0s 2ms/step - loss: 3.7321 - accuracy: 0.2593\n",
      "Epoch 7/80\n",
      "1/1 [==============================] - 0s 3ms/step - loss: 3.7258 - accuracy: 0.2593\n",
      "Epoch 8/80\n",
      "1/1 [==============================] - 0s 4ms/step - loss: 3.7195 - accuracy: 0.2593\n",
      "Epoch 9/80\n",
      "1/1 [==============================] - 0s 2ms/step - loss: 3.7129 - accuracy: 0.2778\n",
      "Epoch 10/80\n",
      "1/1 [==============================] - 0s 1ms/step - loss: 3.7062 - accuracy: 0.2778\n",
      "Epoch 11/80\n",
      "1/1 [==============================] - 0s 3ms/step - loss: 3.6991 - accuracy: 0.2963\n",
      "Epoch 12/80\n",
      "1/1 [==============================] - 0s 2ms/step - loss: 3.6918 - accuracy: 0.2963\n",
      "Epoch 13/80\n",
      "1/1 [==============================] - 0s 1ms/step - loss: 3.6841 - accuracy: 0.3148\n",
      "Epoch 14/80\n",
      "1/1 [==============================] - 0s 2ms/step - loss: 3.6760 - accuracy: 0.3333\n",
      "Epoch 15/80\n",
      "1/1 [==============================] - 0s 2ms/step - loss: 3.6676 - accuracy: 0.3519\n",
      "Epoch 16/80\n",
      "1/1 [==============================] - 0s 5ms/step - loss: 3.6587 - accuracy: 0.3519\n",
      "Epoch 17/80\n",
      "1/1 [==============================] - 0s 2ms/step - loss: 3.6494 - accuracy: 0.3519\n",
      "Epoch 18/80\n",
      "1/1 [==============================] - 0s 3ms/step - loss: 3.6396 - accuracy: 0.3519\n",
      "Epoch 19/80\n",
      "1/1 [==============================] - 0s 6ms/step - loss: 3.6293 - accuracy: 0.3519\n",
      "Epoch 20/80\n",
      "1/1 [==============================] - 0s 2ms/step - loss: 3.6184 - accuracy: 0.3704\n",
      "Epoch 21/80\n",
      "1/1 [==============================] - 0s 3ms/step - loss: 3.6071 - accuracy: 0.3519\n",
      "Epoch 22/80\n",
      "1/1 [==============================] - 0s 2ms/step - loss: 3.5951 - accuracy: 0.3519\n",
      "Epoch 23/80\n",
      "1/1 [==============================] - 0s 1ms/step - loss: 3.5826 - accuracy: 0.3519\n",
      "Epoch 24/80\n",
      "1/1 [==============================] - 0s 2ms/step - loss: 3.5695 - accuracy: 0.3519\n",
      "Epoch 25/80\n",
      "1/1 [==============================] - 0s 3ms/step - loss: 3.5557 - accuracy: 0.3519\n",
      "Epoch 26/80\n",
      "1/1 [==============================] - 0s 2ms/step - loss: 3.5412 - accuracy: 0.3519\n",
      "Epoch 27/80\n",
      "1/1 [==============================] - 0s 2ms/step - loss: 3.5261 - accuracy: 0.3704\n",
      "Epoch 28/80\n",
      "1/1 [==============================] - 0s 2ms/step - loss: 3.5103 - accuracy: 0.3704\n",
      "Epoch 29/80\n",
      "1/1 [==============================] - 0s 2ms/step - loss: 3.4937 - accuracy: 0.3704\n",
      "Epoch 30/80\n",
      "1/1 [==============================] - 0s 3ms/step - loss: 3.4764 - accuracy: 0.3704\n",
      "Epoch 31/80\n",
      "1/1 [==============================] - 0s 3ms/step - loss: 3.4583 - accuracy: 0.3889\n",
      "Epoch 32/80\n",
      "1/1 [==============================] - 0s 2ms/step - loss: 3.4395 - accuracy: 0.3889\n",
      "Epoch 33/80\n",
      "1/1 [==============================] - 0s 11ms/step - loss: 3.4198 - accuracy: 0.3889\n",
      "Epoch 34/80\n",
      "1/1 [==============================] - 0s 3ms/step - loss: 3.3992 - accuracy: 0.3889\n",
      "Epoch 35/80\n",
      "1/1 [==============================] - 0s 2ms/step - loss: 3.3778 - accuracy: 0.3889\n",
      "Epoch 36/80\n",
      "1/1 [==============================] - 0s 2ms/step - loss: 3.3556 - accuracy: 0.4074\n",
      "Epoch 37/80\n",
      "1/1 [==============================] - 0s 3ms/step - loss: 3.3324 - accuracy: 0.4259\n",
      "Epoch 38/80\n",
      "1/1 [==============================] - 0s 2ms/step - loss: 3.3083 - accuracy: 0.4259\n",
      "Epoch 39/80\n",
      "1/1 [==============================] - 0s 3ms/step - loss: 3.2832 - accuracy: 0.4259\n",
      "Epoch 40/80\n",
      "1/1 [==============================] - 0s 2ms/step - loss: 3.2572 - accuracy: 0.4259\n",
      "Epoch 41/80\n",
      "1/1 [==============================] - 0s 4ms/step - loss: 3.2301 - accuracy: 0.4444\n",
      "Epoch 42/80\n",
      "1/1 [==============================] - 0s 2ms/step - loss: 3.2021 - accuracy: 0.4444\n",
      "Epoch 43/80\n",
      "1/1 [==============================] - 0s 1ms/step - loss: 3.1731 - accuracy: 0.4815\n",
      "Epoch 44/80\n",
      "1/1 [==============================] - 0s 4ms/step - loss: 3.1430 - accuracy: 0.4815\n",
      "Epoch 45/80\n",
      "1/1 [==============================] - 0s 2ms/step - loss: 3.1120 - accuracy: 0.4815\n",
      "Epoch 46/80\n",
      "1/1 [==============================] - 0s 2ms/step - loss: 3.0799 - accuracy: 0.4815\n",
      "Epoch 47/80\n",
      "1/1 [==============================] - 0s 2ms/step - loss: 3.0468 - accuracy: 0.5000\n",
      "Epoch 48/80\n",
      "1/1 [==============================] - 0s 2ms/step - loss: 3.0126 - accuracy: 0.5000\n",
      "Epoch 49/80\n",
      "1/1 [==============================] - 0s 2ms/step - loss: 2.9773 - accuracy: 0.5370\n",
      "Epoch 50/80\n",
      "1/1 [==============================] - 0s 2ms/step - loss: 2.9410 - accuracy: 0.5370\n",
      "Epoch 51/80\n",
      "1/1 [==============================] - 0s 2ms/step - loss: 2.9037 - accuracy: 0.5370\n",
      "Epoch 52/80\n",
      "1/1 [==============================] - 0s 2ms/step - loss: 2.8653 - accuracy: 0.5370\n",
      "Epoch 53/80\n",
      "1/1 [==============================] - 0s 995us/step - loss: 2.8258 - accuracy: 0.5370\n",
      "Epoch 54/80\n",
      "1/1 [==============================] - 0s 2ms/step - loss: 2.7854 - accuracy: 0.5370\n",
      "Epoch 55/80\n",
      "1/1 [==============================] - 0s 2ms/step - loss: 2.7439 - accuracy: 0.5556\n",
      "Epoch 56/80\n",
      "1/1 [==============================] - 0s 1ms/step - loss: 2.7014 - accuracy: 0.5741\n",
      "Epoch 57/80\n",
      "1/1 [==============================] - 0s 3ms/step - loss: 2.6579 - accuracy: 0.5926\n",
      "Epoch 58/80\n",
      "1/1 [==============================] - 0s 2ms/step - loss: 2.6134 - accuracy: 0.6667\n",
      "Epoch 59/80\n",
      "1/1 [==============================] - 0s 2ms/step - loss: 2.5680 - accuracy: 0.7037\n",
      "Epoch 60/80\n",
      "1/1 [==============================] - 0s 920us/step - loss: 2.5217 - accuracy: 0.7222\n",
      "Epoch 61/80\n",
      "1/1 [==============================] - 0s 991us/step - loss: 2.4745 - accuracy: 0.7222\n",
      "Epoch 62/80\n",
      "1/1 [==============================] - 0s 1ms/step - loss: 2.4264 - accuracy: 0.7222\n",
      "Epoch 63/80\n",
      "1/1 [==============================] - 0s 2ms/step - loss: 2.3776 - accuracy: 0.7222\n",
      "Epoch 64/80\n",
      "1/1 [==============================] - 0s 2ms/step - loss: 2.3280 - accuracy: 0.7222\n",
      "Epoch 65/80\n",
      "1/1 [==============================] - 0s 1ms/step - loss: 2.2776 - accuracy: 0.7407\n",
      "Epoch 66/80\n",
      "1/1 [==============================] - 0s 976us/step - loss: 2.2264 - accuracy: 0.7963\n",
      "Epoch 67/80\n",
      "1/1 [==============================] - 0s 2ms/step - loss: 2.1747 - accuracy: 0.8148\n",
      "Epoch 68/80\n",
      "1/1 [==============================] - 0s 2ms/step - loss: 2.1223 - accuracy: 0.8333\n",
      "Epoch 69/80\n",
      "1/1 [==============================] - 0s 2ms/step - loss: 2.0693 - accuracy: 0.8333\n",
      "Epoch 70/80\n",
      "1/1 [==============================] - 0s 2ms/step - loss: 2.0158 - accuracy: 0.8333\n",
      "Epoch 71/80\n",
      "1/1 [==============================] - 0s 2ms/step - loss: 1.9619 - accuracy: 0.8519\n",
      "Epoch 72/80\n",
      "1/1 [==============================] - 0s 920us/step - loss: 1.9076 - accuracy: 0.8704\n",
      "Epoch 73/80\n",
      "1/1 [==============================] - 0s 2ms/step - loss: 1.8529 - accuracy: 0.8704\n",
      "Epoch 74/80\n",
      "1/1 [==============================] - 0s 2ms/step - loss: 1.7979 - accuracy: 0.9074\n",
      "Epoch 75/80\n",
      "1/1 [==============================] - 0s 2ms/step - loss: 1.7426 - accuracy: 0.9074\n",
      "Epoch 76/80\n",
      "1/1 [==============================] - 0s 2ms/step - loss: 1.6871 - accuracy: 0.9074\n",
      "Epoch 77/80\n",
      "1/1 [==============================] - 0s 2ms/step - loss: 1.6315 - accuracy: 0.9444\n",
      "Epoch 78/80\n",
      "1/1 [==============================] - 0s 2ms/step - loss: 1.5759 - accuracy: 0.9444\n",
      "Epoch 79/80\n",
      "1/1 [==============================] - 0s 2ms/step - loss: 1.5203 - accuracy: 0.9630\n",
      "Epoch 80/80\n",
      "1/1 [==============================] - 0s 2ms/step - loss: 1.4648 - accuracy: 0.9630\n"
     ]
    }
   ],
   "source": [
    "# Train the model\n",
    "history=model.fit(context_data, target_data, epochs=80, batch_size=64)"
   ]
  },
  {
   "cell_type": "code",
   "execution_count": 10,
   "id": "e79779bd-1e32-4b7a-a4bd-4cc18a6b5033",
   "metadata": {},
   "outputs": [
    {
     "data": {
      "image/png": "[encoded data removed]",
      "text/plain": [
       "<Figure size 640x480 with 1 Axes>"
      ]
     },
     "metadata": {},
     "output_type": "display_data"
    }
   ],
   "source": [
    "history.history.keys()\n",
    "plt.plot(history.history['loss'])\n",
    "plt.title('Loss per Epoch')\n",
    "plt.xlabel('Epochs')\n",
    "plt.ylabel('Loss')\n",
    "plt.show()"
   ]
  },
  {
   "cell_type": "code",
   "execution_count": 11,
   "id": "73c9ae56-5cb9-426e-b187-5e9cd06d6917",
   "metadata": {},
   "outputs": [],
   "source": [
    "# Predict function\n",
    "def predict(context_words):\n",
    "    context_idxs = np.array([word_to_ix[word] for word in context_words])\n",
    "    context_idxs = context_idxs.reshape(1, -1)  # Reshape to match the model's input shape\n",
    "    pred_idx = np.argmax(model.predict(context_idxs))\n",
    "    return ix_to_word[pred_idx]"
   ]
  },
  {
   "cell_type": "code",
   "execution_count": 12,
   "id": "216ead00-1061-4e37-98f3-ffbc7e5a00d3",
   "metadata": {},
   "outputs": [
    {
     "name": "stdout",
     "output_type": "stream",
     "text": [
      "Predicted word for context ['we', 'are', 'to', 'study']: about\n"
     ]
    }
   ],
   "source": [
    "# Test Prediction\n",
    "context = ['we', 'are', 'to', 'study']\n",
    "predicted_word = predict(context)\n",
    "print(f\"Predicted word for context {context}: {predicted_word}\")"
   ]
  },
  {
   "cell_type": "code",
   "execution_count": null,
   "id": "2c7763b4-5aff-43c4-8820-8a6db2f8d510",
   "metadata": {},
   "outputs": [],
   "source": []
  },
  {
   "cell_type": "code",
   "execution_count": null,
   "id": "358bea45-0c0d-4214-a91d-7e6f2f2f0c66",
   "metadata": {},
   "outputs": [],
   "source": []
  },
  {
   "cell_type": "code",
   "execution_count": null,
   "id": "090f0e12-e044-477a-b1d1-1e0362c9900a",
   "metadata": {},
   "outputs": [],
   "source": []
  },
  {
   "cell_type": "code",
   "execution_count": null,
   "id": "88539a3f-4ad5-4ad4-b53c-66d15f3e5404",
   "metadata": {},
   "outputs": [],
   "source": []
  }
 ],
 "metadata": {
  "kernelspec": {
   "display_name": "Python 3 (ipykernel)",
   "language": "python",
   "name": "python3"
  },
  "language_info": {
   "codemirror_mode": {
    "name": "ipython",
    "version": 3
   },
   "file_extension": ".py",
   "mimetype": "text/x-python",
   "name": "python",
   "nbconvert_exporter": "python",
   "pygments_lexer": "ipython3",
   "version": "3.8.20"
  }
 },
 "nbformat": 4,
 "nbformat_minor": 5
}
